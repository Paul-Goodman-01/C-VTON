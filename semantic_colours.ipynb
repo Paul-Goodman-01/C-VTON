{
 "cells": [
  {
   "cell_type": "code",
   "execution_count": null,
   "metadata": {},
   "outputs": [],
   "source": [
    "import matplotlib.pyplot as plt"
   ]
  },
  {
   "cell_type": "code",
   "execution_count": null,
   "metadata": {},
   "outputs": [],
   "source": [
    "# Seems to be derived from LIP Challenge Data \n",
    "semantic_cloth_labels = [\n",
    "    [128, 0, 128], # Torso/Top/Clothing\n",
    "    [128, 128, 64], # Left arm\n",
    "    [128, 128, 192], # Right arm\n",
    "    [0, 255, 0], # Neck\n",
    "    [0, 128, 128], # Dress\n",
    "    [128, 128, 128], # Something upper?\n",
    "    [0, 0, 0], # Background\n",
    "    [0, 128, 0], # Hair\n",
    "    [0, 64, 0], # Left leg?\n",
    "    [128, 128, 0], # Right hand\n",
    "    [0, 192, 0], # Left foot\n",
    "    [128, 0, 192], # Head\n",
    "    [0, 0, 192], # Legs / skirt?\n",
    "    [0, 64, 128], # Skirt?\n",
    "    [128, 0, 64], # Left hand\n",
    "    [0, 192, 128], # Right foot\n",
    "    [0, 0, 128],\n",
    "    [0, 128, 64],\n",
    "    [0, 0, 64],\n",
    "    [0, 128, 192]\n",
    "]\n",
    "\n",
    "# DensePose-COCO? \n",
    "semantic_densepose_labels = [\n",
    "    [0, 0, 0], # Background\n",
    "\t[105, 105, 105], # Torso 1 (Rear?)\n",
    "\t[85, 107, 47], # Torso 2 (Front?)\n",
    "\t[139, 69, 19], # Right Hand\n",
    "\t[72, 61, 139], # Left Hand\n",
    "\t[0, 128, 0], # Left Foot\n",
    "\t[154, 205, 50], # Right Foot\n",
    "\t[0, 0, 139], # Right Leg Upper\n",
    "\t[255, 69, 0], # Left Leg Upper\n",
    "\t[255, 165, 0], # Right leg Upper\n",
    "\t[255, 255, 0], # Left leg Upper\n",
    "\t[0, 255, 0],  # Right leg Lower\n",
    "\t[186, 85, 211], # Left Leg Lower\n",
    "\t[0, 255, 127], # Right leg Lower\n",
    "\t[220, 20, 60], # Left Leg Lower\n",
    "\t[0, 191, 255], # Left Arm - Upper inner\n",
    "\t[0, 0, 255], # Right Arm - Upper inner\n",
    "\t[216, 191, 216], # Left Arm - Upper outer\n",
    "\t[255, 0, 255], # Right Arm - Upper outer\n",
    "\t[30, 144, 255], # Left Arm - Lower inner\n",
    "\t[219, 112, 147], # Right arm - Lower inner\n",
    "\t[240, 230, 140], # Left Arm - Lower outer \n",
    "\t[255, 20, 147], # Right Arm - Lower outer\n",
    "\t[255, 160, 122], # Right face\n",
    "\t[127, 255, 212] # Left Face\n",
    "]\n",
    "\n",
    "# Unknown providence?\n",
    "semantic_body_labels = [\n",
    "    [127, 127, 127], # Head\n",
    "    [0, 255, 255], # Left hand\n",
    "    [255, 255, 0], # Left Arm - Upper\n",
    "    [127, 127, 0], # Right hand\n",
    "    [255, 127, 127],\n",
    "    [0, 255, 0], # Left leg\n",
    "    [0, 0, 0], # Background\n",
    "    [255, 127, 0], # Right Arm - Upper\n",
    "    [0, 0, 255], # Right Leg\n",
    "    [127, 255, 127],\n",
    "    [0, 127, 255],\n",
    "    [127, 0, 255], # Right Arm - Lower\n",
    "    [255, 255, 127], \n",
    "    [255, 0, 0], # Torso\n",
    "    [255, 0, 255] # Left Arm Lower\n",
    "]"
   ]
  },
  {
   "cell_type": "code",
   "execution_count": null,
   "metadata": {},
   "outputs": [],
   "source": [
    "def display_colors(color_list, var_name, cols=4, save_as=None):\n",
    "    num_colors = len(color_list)\n",
    "    rows = (num_colors - 1) // cols + 1  # Adjust columns as needed\n",
    "    fig, ax = plt.subplots(rows, cols, figsize=(8, 2 * rows))\n",
    "\n",
    "    for i, color in enumerate(color_list):\n",
    "        row = i // cols\n",
    "        col = i % cols\n",
    "        ax[row, col].imshow([[color]])\n",
    "        ax[row, col].set_title(f'{i}: {color}', fontsize=8)\n",
    "        ax[row, col].axis('off')\n",
    "\n",
    "    # Hide empty subplots\n",
    "    for i in range(num_colors, rows * cols):\n",
    "        ax.flat[i].set_visible(False)\n",
    "\n",
    "    fig.suptitle(f'Grid of \"{var_name}\" colors', fontsize=14, y=1.05)\n",
    "    plt.tight_layout()\n",
    "    \n",
    "    if save_as:\n",
    "        plt.savefig(save_as)  # Save as the specified file format\n",
    "        #plt.close()  # Close the plot to avoid displaying it when saving\n",
    "    \n",
    "    plt.show()\n",
    "\n"
   ]
  },
  {
   "cell_type": "code",
   "execution_count": null,
   "metadata": {},
   "outputs": [],
   "source": [
    "display_colors(semantic_cloth_labels, 'semantic_cloth_labels', 6, 'semantic_cloth_labels.jpg')"
   ]
  },
  {
   "cell_type": "code",
   "execution_count": null,
   "metadata": {},
   "outputs": [],
   "source": [
    "display_colors(semantic_densepose_labels, 'semantic_densepose_labels', 6, 'semantic_densepose_labels.jpg')"
   ]
  },
  {
   "cell_type": "code",
   "execution_count": null,
   "metadata": {},
   "outputs": [],
   "source": [
    "display_colors(semantic_body_labels, 'semantic_body_labels', 6, 'semantic_body_labels.jpg')"
   ]
  }
 ],
 "metadata": {
  "kernelspec": {
   "display_name": "c-viton",
   "language": "python",
   "name": "python3"
  },
  "language_info": {
   "codemirror_mode": {
    "name": "ipython",
    "version": 3
   },
   "file_extension": ".py",
   "mimetype": "text/x-python",
   "name": "python",
   "nbconvert_exporter": "python",
   "pygments_lexer": "ipython3",
   "version": "3.8.10"
  }
 },
 "nbformat": 4,
 "nbformat_minor": 2
}
